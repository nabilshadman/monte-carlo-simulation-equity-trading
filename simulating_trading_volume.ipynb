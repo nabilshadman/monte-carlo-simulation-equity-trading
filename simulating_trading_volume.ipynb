{
 "cells": [
  {
   "cell_type": "markdown",
   "metadata": {},
   "source": [
    "# Simulating Equity Trading Volume with Pareto Distribution"
   ]
  },
  {
   "cell_type": "markdown",
   "metadata": {},
   "source": [
    "We utilise a **Pareto** distribution to simulate non-negative equity trading **volume** data. Note that this is not correlated to any underlying asset price, as may likely be the case for real data, but it is a reasonably effective approximation [1]. \n",
    "\n",
    "The volume data generator method uses a vectorised sampling of a Pareto distribution to simulate daily traded volume for a stock. Since the Pareto distribution returns floating point values it is necessary to **scale** them up and cast them to integers to avoid the problem of simulating 'fractional shares'. The values returned from the Pareto distribution are also multiplied by a scalar value of $10^6$ to produce typical large cap equity daily volume values [1].  \n",
    "\n",
    "Note that there is **no autocorrelation** in the volume data, nor is it correlated to the asset price."
   ]
  },
  {
   "cell_type": "code",
   "execution_count": 1,
   "metadata": {},
   "outputs": [],
   "source": [
    "# import relevant packages\n",
    "import os\n",
    "import random\n",
    "import numpy as np\n",
    "import pandas as pd\n",
    "import matplotlib.pyplot as plt"
   ]
  },
  {
   "cell_type": "code",
   "execution_count": 2,
   "metadata": {},
   "outputs": [],
   "source": [
    "# define Trading Volume Simulator class\n",
    "\n",
    "class TradingVolumeSimulator:\n",
    "    \"\"\"\n",
    "    Trading Volume Simulator.\n",
    "    \n",
    "    This callable class will generate a DataFrame with daily volume \n",
    "    data. The generator uses a Pareto distribution to simulate volume \n",
    "    data.\n",
    "    \n",
    "    Parameters\n",
    "    ----------\n",
    "    start_date : `str`\n",
    "        The starting date in YYYY-MM-DD format.\n",
    "    end_date : `str`\n",
    "        The ending date in YYYY-MM-DD format.\n",
    "    pareto_shape : `float`\n",
    "        The parameter used to govern the Pareto distribution\n",
    "        shape for the generation of volume data.\n",
    "    \"\"\"\n",
    "\n",
    "    def __init__(self, start_date, end_date, pareto_shape):\n",
    "        self.start_date = start_date\n",
    "        self.end_date = end_date\n",
    "        self.pareto_shape = pareto_shape\n",
    "    \n",
    "\n",
    "    def _create_empty_frame(self):\n",
    "        \"\"\"\n",
    "        Creates the empty Pandas DataFrame with a date column using\n",
    "        business days between two dates. Each of the price/volume\n",
    "        columns are set to zero [1].\n",
    "\n",
    "        Returns\n",
    "        -------\n",
    "        `pd.DataFrame`\n",
    "            The empty DataFrame for subsequent population.\n",
    "        \"\"\"\n",
    "        date_range = pd.date_range(\n",
    "            self.start_date,\n",
    "            self.end_date,\n",
    "            freq='B'\n",
    "        )\n",
    "\n",
    "        zeros = pd.Series(np.zeros(len(date_range)))\n",
    "\n",
    "        return pd.DataFrame(\n",
    "            {\n",
    "                'date': date_range,\n",
    "                'volume': zeros\n",
    "            }\n",
    "        )[['date', 'volume']]\n",
    "\n",
    "\n",
    "    def _append_volume_to_data(self, data):\n",
    "        \"\"\"\n",
    "        Utilises a Pareto distribution to simulate non-negative\n",
    "        volume data. Note that this is not correlated to the\n",
    "        underlying asset price, as may likely be the case for\n",
    "        real data. We consider that it is a reasonably effective \n",
    "        approximation [1].\n",
    "\n",
    "        Parameters\n",
    "        ----------\n",
    "        data : `pd.DataFrame`\n",
    "            The DataFrame to append volume data to, in place.\n",
    "            \n",
    "            \n",
    "        Returns\n",
    "        -------\n",
    "        `pd.DataFrame`\n",
    "            The DataFrame with volume data populated.\n",
    "        \n",
    "        \"\"\"\n",
    "        data['volume'] = np.array(\n",
    "            list(\n",
    "                map(\n",
    "                    int,\n",
    "                    np.random.pareto(\n",
    "                        self.pareto_shape,\n",
    "                        size=len(data)\n",
    "                    ) * 1000000.0\n",
    "                )\n",
    "            )\n",
    "        )\n",
    "        \n",
    "        return data\n",
    "\n",
    "\n",
    "    def simulate(self):\n",
    "        \"\"\"\n",
    "        Run the trading volume simulation.\n",
    "        \n",
    "        Returns\n",
    "        -------\n",
    "        `pd.DataFrame`\n",
    "            The DataFrame with simulated volume data.\n",
    "        \"\"\"\n",
    "        data = self._create_empty_frame()\n",
    "        data = self._append_volume_to_data(data)\n",
    "        return data"
   ]
  },
  {
   "cell_type": "code",
   "execution_count": 3,
   "metadata": {},
   "outputs": [
    {
     "data": {
      "text/html": [
       "<div>\n",
       "<style scoped>\n",
       "    .dataframe tbody tr th:only-of-type {\n",
       "        vertical-align: middle;\n",
       "    }\n",
       "\n",
       "    .dataframe tbody tr th {\n",
       "        vertical-align: top;\n",
       "    }\n",
       "\n",
       "    .dataframe thead th {\n",
       "        text-align: right;\n",
       "    }\n",
       "</style>\n",
       "<table border=\"1\" class=\"dataframe\">\n",
       "  <thead>\n",
       "    <tr style=\"text-align: right;\">\n",
       "      <th></th>\n",
       "      <th>date</th>\n",
       "      <th>volume</th>\n",
       "    </tr>\n",
       "  </thead>\n",
       "  <tbody>\n",
       "    <tr>\n",
       "      <th>0</th>\n",
       "      <td>1970-01-01</td>\n",
       "      <td>498093</td>\n",
       "    </tr>\n",
       "    <tr>\n",
       "      <th>1</th>\n",
       "      <td>1970-01-02</td>\n",
       "      <td>12365772</td>\n",
       "    </tr>\n",
       "    <tr>\n",
       "      <th>2</th>\n",
       "      <td>1970-01-05</td>\n",
       "      <td>2108523</td>\n",
       "    </tr>\n",
       "    <tr>\n",
       "      <th>3</th>\n",
       "      <td>1970-01-06</td>\n",
       "      <td>1195350</td>\n",
       "    </tr>\n",
       "    <tr>\n",
       "      <th>4</th>\n",
       "      <td>1970-01-07</td>\n",
       "      <td>157314</td>\n",
       "    </tr>\n",
       "  </tbody>\n",
       "</table>\n",
       "</div>"
      ],
      "text/plain": [
       "        date    volume\n",
       "0 1970-01-01    498093\n",
       "1 1970-01-02  12365772\n",
       "2 1970-01-05   2108523\n",
       "3 1970-01-06   1195350\n",
       "4 1970-01-07    157314"
      ]
     },
     "execution_count": 3,
     "metadata": {},
     "output_type": "execute_result"
    }
   ],
   "source": [
    "# run simulation\n",
    "\n",
    "# set parameters\n",
    "random_seed = 42\n",
    "start_date='1970-01-01'\n",
    "end_date='2070-12-31'\n",
    "pareto_shape = 1.161\n",
    "\n",
    "# need to seed both Python and NumPy separately\n",
    "random.seed(random_seed)\n",
    "np.random.seed(seed=random_seed)\n",
    "\n",
    "# run simulation\n",
    "simulator = TradingVolumeSimulator(start_date, end_date, pareto_shape)\n",
    "data = simulator.simulate()\n",
    "\n",
    "# display simulated data\n",
    "data.head()"
   ]
  },
  {
   "cell_type": "code",
   "execution_count": 4,
   "metadata": {},
   "outputs": [
    {
     "data": {
      "image/png": "[encoded data removed]",
      "text/plain": [
       "<Figure size 432x288 with 1 Axes>"
      ]
     },
     "metadata": {
      "needs_background": "light"
     },
     "output_type": "display_data"
    }
   ],
   "source": [
    "# visualise simulated data\n",
    "df = data.set_index('date')\n",
    "df[['volume']].plot()\n",
    "plt.show()"
   ]
  },
  {
   "cell_type": "markdown",
   "metadata": {},
   "source": [
    "## References\n",
    "[1] https://www.quantstart.com/articles/geometric-brownian-motion-simulation-with-python/"
   ]
  },
  {
   "cell_type": "code",
   "execution_count": null,
   "metadata": {},
   "outputs": [],
   "source": []
  }
 ],
 "metadata": {
  "kernelspec": {
   "display_name": "Python 3",
   "language": "python",
   "name": "python3"
  },
  "language_info": {
   "codemirror_mode": {
    "name": "ipython",
    "version": 3
   },
   "file_extension": ".py",
   "mimetype": "text/x-python",
   "name": "python",
   "nbconvert_exporter": "python",
   "pygments_lexer": "ipython3",
   "version": "3.8.3"
  }
 },
 "nbformat": 4,
 "nbformat_minor": 4
}
